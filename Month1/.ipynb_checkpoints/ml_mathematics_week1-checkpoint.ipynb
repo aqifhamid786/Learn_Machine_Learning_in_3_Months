{
 "cells": [
  {
   "cell_type": "markdown",
   "metadata": {},
   "source": [
    "# Month 1 Mathematics\n",
    "\n",
    "### Week 1 Linear Algebra \n",
    "-[] 3Blue1Brown https://www.youtube.com/watch?v=kjBOesZCoqc&index=1&list=PLZHQObOWTQDPD3MizzM2xVFitgF8hE_ab"
   ]
  },
  {
   "cell_type": "markdown",
   "metadata": {},
   "source": [
    "Chapter 3 from his linear algebra course on the essence of linear algebra and to teach the viewer the intuition behind it."
   ]
  },
  {
   "cell_type": "markdown",
   "metadata": {},
   "source": [
    "Video 2 \n",
    "\n",
    "The \"**span**\" of two vectors is the set of all their linear combinations.**Linear dependency** if they don't add information or in other words, one vector v-> can be expressed as a linear combination of the other w->. Linear independence is therefore when w-> != av->. Basis vectors are therefore linearly independent vectors that span the full space of their **vector space**."
   ]
  },
  {
   "cell_type": "code",
   "execution_count": null,
   "metadata": {},
   "outputs": [],
   "source": []
  }
 ],
 "metadata": {
  "kernelspec": {
   "display_name": "Python 3",
   "language": "python",
   "name": "python3"
  },
  "language_info": {
   "codemirror_mode": {
    "name": "ipython",
    "version": 3
   },
   "file_extension": ".py",
   "mimetype": "text/x-python",
   "name": "python",
   "nbconvert_exporter": "python",
   "pygments_lexer": "ipython3",
   "version": "3.6.6"
  }
 },
 "nbformat": 4,
 "nbformat_minor": 2
}
