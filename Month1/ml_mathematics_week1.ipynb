{
 "cells": [
  {
   "cell_type": "markdown",
   "metadata": {},
   "source": [
    "# Month 1 Mathematics\n",
    "\n",
    "### Week 1 Linear Algebra \n",
    "-[] 3Blue1Brown https://www.youtube.com/watch?v=kjBOesZCoqc&index=1&list=PLZHQObOWTQDPD3MizzM2xVFitgF8hE_ab"
   ]
  },
  {
   "cell_type": "markdown",
   "metadata": {},
   "source": [
    "Chapter 3 from his linear algebra course on the essence of linear algebra and to teach the viewer the intuition behind it."
   ]
  },
  {
   "cell_type": "markdown",
   "metadata": {},
   "source": [
    "#### Video 2 \n",
    "\n",
    "    The \"**span**\" of two vectors is the set of all their linear combinations.**Linear dependency** if they don't add information or in other words, one vector v-> can be expressed as a linear combination of the other w->. Linear independence is therefore when w-> != av->. Basis vectors are therefore linearly independent vectors that span the full space of their **vector space**.\n",
    "\n",
    "\n",
    "#### Video 3 Linear transformations and matrices\n",
    "\n",
    "    A **transformation** can be described in a 2x2 matrix(or as a function f(x,y) on the basis vectors of the space, that when applied on a vector will give you the transformed vector. The grid lines remain parallel and evenly spaced and the origin remains fixed.\n",
    "\n",
    "    If you have linearly dependent columns of your 2x2 matrix, as shown in Video 2, one transformations is a linearly streched out version of the other, which means that they will squish to a a 1D line(1D span) instead of 2D space.\n",
    "\n",
    "\n",
    "#### Video 4 Matrix multiplication as composition\n",
    "\n",
    "    Then applying to tranformations i.E. first rotation 90° then Shear is the same as multiplying the vector by the composition, which is the matrix multiplication of the 2 tranformations.\n",
    "\n",
    "    **Matrix multiplication** process and the thinking is that first we apply one tranformation and then use that result for the second transformation. Also notice that the order matters(m1*m2!=m2*m1)"
   ]
  },
  {
   "cell_type": "code",
   "execution_count": null,
   "metadata": {},
   "outputs": [],
   "source": []
  }
 ],
 "metadata": {
  "kernelspec": {
   "display_name": "Python 3",
   "language": "python",
   "name": "python3"
  },
  "language_info": {
   "codemirror_mode": {
    "name": "ipython",
    "version": 3
   },
   "file_extension": ".py",
   "mimetype": "text/x-python",
   "name": "python",
   "nbconvert_exporter": "python",
   "pygments_lexer": "ipython3",
   "version": "3.6.6"
  }
 },
 "nbformat": 4,
 "nbformat_minor": 2
}
